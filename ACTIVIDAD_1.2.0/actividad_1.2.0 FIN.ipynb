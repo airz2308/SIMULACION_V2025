{
 "cells": [
  {
   "cell_type": "markdown",
   "id": "bcce2c1d",
   "metadata": {},
   "source": [
    "<p align=\"center\">\n",
    "  <img src=\"https://oci02.img.iteso.mx/Identidades-De-Instancia/ITESO/Logos%20ITESO/Logo-ITESO-Principal.jpg\" alt=\"ITESO Logo\" width=\"400\">\n",
    "</p>\n",
    "\n",
    "<h1 align=\"center\">Simulación Matemática</h1>\n",
    "<h3 align=\"center\">Departamento de Matemáticas y Física</h3>\n",
    "\n",
    "- **Nombre del estudiante:** Alma Ixchel Rodriguez Zepeda\n",
    "\n",
    "- **Número de Matrícula:** 745544\n",
    "\n",
    "- **Nombre del profesor:** Alejandro Noel Hernández Gutiérrez\n",
    "\n",
    "- **Fecha de entrega:** 28/05/25\n",
    "\n",
    "- **Nombre del proyecto / práctica:** ACTIVIDAD_X.Y.Z\n",
    "\n",
    "- **Tema:** Tipos de variable \n"
   ]
  },
  {
   "cell_type": "markdown",
   "id": "6fb55dde",
   "metadata": {},
   "source": [
    "# Tipos de Variables\n",
    "En este cuaderno aprenderás sobre los principales tipos de variables en Python, sus características, y cómo utilizarlas. Cada sección contiene ejemplos prácticos y una actividad al final para reforzar lo aprendido. ¡Comencemos!"
   ]
  },
  {
   "cell_type": "markdown",
   "id": "a90766f9",
   "metadata": {},
   "source": [
    "# Variables Cualitativas y Cuantitativas"
   ]
  },
  {
   "cell_type": "markdown",
   "id": "cc3a7486",
   "metadata": {},
   "source": [
    "## 1. Variables Cualitativas\n",
    "Las variables cualitativas describen cualidades o categorías. No se expresan en números, sino en palabras o etiquetas.\n",
    "Por ejemplo, el color de un objeto, el estado civil o el género."
   ]
  },
  {
   "cell_type": "code",
   "execution_count": 1,
   "id": "8244ae95",
   "metadata": {},
   "outputs": [
    {
     "name": "stdout",
     "output_type": "stream",
     "text": [
      "Mi color favorito es: rojo\n"
     ]
    }
   ],
   "source": [
    "# Ejemplo\n",
    "colores_favoritos = {\n",
    "    \"veronica\": \"negro\",\n",
    "    \"mateo\": \"azul\",\n",
    "    \"camila\": \"rojo\",\n",
    "    \"noel\": \"verde\",\n",
    "    \"valentina\": \"rosa\",\n",
    "    \"david\": \"gris\",\n",
    "    \"sofia\": \"morado\",\n",
    "    \"martin\": \"naranja\",\n",
    "    \"emma\": \"amarillo\",\n",
    "    \"nicolas\": \"blanco\"\n",
    "}\n",
    "print(f'Mi color favorito es: {colores_favoritos[\"camila\"]}')"
   ]
  },
  {
   "cell_type": "code",
   "execution_count": 4,
   "id": "4d9c855e",
   "metadata": {},
   "outputs": [
    {
     "name": "stdout",
     "output_type": "stream",
     "text": [
      "verde\n"
     ]
    }
   ],
   "source": [
    "lista_colores=[\n",
    "    'negro',\n",
    "    'azul',\n",
    "    'rojo',\n",
    "    'verde',\n",
    "    'rosa',\n",
    "    'gris',\n",
    "    'morado',\n",
    "    'naranja',\n",
    "    'amarillo',\n",
    "    'blanco',]\n",
    "print(lista_colores[3])"
   ]
  },
  {
   "cell_type": "code",
   "execution_count": 2,
   "id": "ecd97326",
   "metadata": {},
   "outputs": [
    {
     "name": "stdout",
     "output_type": "stream",
     "text": [
      "El estado civil es: en pareja\n"
     ]
    }
   ],
   "source": [
    "# Ejemplo\n",
    "estado_civil = {1: \"soltero\", 2: \"casado\", 3: \"divorciado\", 4: \"viudo\", 5: \"en pareja\"}\n",
    "print(f'El estado civil es: {estado_civil[5]}')"
   ]
  },
  {
   "cell_type": "markdown",
   "id": "9da2fa17",
   "metadata": {},
   "source": [
    "### Conceptos clave\n",
    "- `Variable cualitativa`: también llamada categórica, representa cualidades o atributos no numéricos (por ejemplo: color, tipo, preferencia, categoría).\n",
    "\n",
    "- `Clase`: Plantilla o estructura general de un objeto en la que se abstraen sus cualidades y características, así como sus funciones. \n",
    "\n",
    "- `Instancia`: es un objeto creado a partir de una clase; cada instancia puede tener diferentes valores de atributos.\n",
    "\n",
    "- `Método`: Función definida dentro de una clase que actúa sobre sus datos"
   ]
  },
  {
   "cell_type": "code",
   "execution_count": 3,
   "id": "cf67b130",
   "metadata": {},
   "outputs": [],
   "source": [
    "# Definimos una clase Cliente para representar a cada individuo en la simulación\n",
    "class Cliente:\n",
    "    def __init__(self, nombre, preferencia_color):\n",
    "        self.nombre = nombre\n",
    "        self.preferencia_color = preferencia_color  # Variable cualitativa\n",
    "\n",
    "    def describir(self):\n",
    "        print(f\"{self.nombre} prefiere el color {self.preferencia_color}.\")"
   ]
  },
  {
   "cell_type": "code",
   "execution_count": 4,
   "id": "ad49dc4b",
   "metadata": {},
   "outputs": [],
   "source": [
    "# Creamos instancias de la clase con diferentes valores cualitativos\n",
    "cliente1 = Cliente(nombre=\"fer\", preferencia_color=\"rojo\")\n",
    "cliente2 = Cliente(nombre=\"Alma\", preferencia_color=\"azul\")\n",
    "cliente3 = Cliente(nombre=\"Sebas\", preferencia_color=\"verde\")"
   ]
  },
  {
   "cell_type": "code",
   "execution_count": 5,
   "id": "eafba2b1",
   "metadata": {},
   "outputs": [
    {
     "name": "stdout",
     "output_type": "stream",
     "text": [
      "Alma prefiere el color azul.\n"
     ]
    }
   ],
   "source": [
    "# Usamos los métodos para ver el comportamiento\n",
    "cliente2.describir()"
   ]
  },
  {
   "cell_type": "markdown",
   "id": "f5b0aa64",
   "metadata": {},
   "source": [
    "### Live Code example:\n",
    "- Cualidades de un animal\n",
    "- Acciones de un animal\n",
    "- Definir un animal"
   ]
  },
  {
   "cell_type": "code",
   "execution_count": 6,
   "id": "29fad09e",
   "metadata": {},
   "outputs": [],
   "source": [
    "'''\n",
    "cualidades de un animal \n",
    "peso\n",
    "altura\n",
    "fuerza de mordida\n",
    "color\n",
    "habitad\n",
    "velocidad\n",
    "\n",
    "\n",
    "comportamientos de un animal\n",
    "comer\n",
    "caminar \n",
    "dormir\n",
    "comunicación\n",
    "'''\n",
    "# Definimos una clase Cliente para representar a cada individuo en la simulación\n",
    "class Animal:\n",
    "    def __init__(self, nombre_comun, peso, altura, fuerzademordida,color, habitad,velocidad, sonido):\n",
    "        self.nombre_comun= nombre_comun\n",
    "        self.peso=peso\n",
    "        self.altura=altura\n",
    "        self.fuerzademordida=fuerzademordida\n",
    "        self.color=color\n",
    "        self.habitad=habitad\n",
    "        self.velocidad=velocidad\n",
    "        self.sonido= sonido \n",
    "\n",
    "    def comunicarse(self):\n",
    "        print(f\"{self.nombre_comun} hace {self.sonido}. y es de {self.color}\")"
   ]
  },
  {
   "cell_type": "code",
   "execution_count": 7,
   "id": "762ce7de",
   "metadata": {},
   "outputs": [
    {
     "name": "stdout",
     "output_type": "stream",
     "text": [
      "la vaca hace muuuuuuu. y es de color blanco y negro\n"
     ]
    }
   ],
   "source": [
    "vaca=Animal(\"la vaca\",500,1.5,300, \"color blanco y negro\",\"granja\",25,\"muuuuuuu\")\n",
    "vaca.comunicarse()#la vaca hace muuuuuuu "
   ]
  },
  {
   "cell_type": "markdown",
   "id": "7178d4c7",
   "metadata": {},
   "source": [
    "### Actividad: Variables Cualitativas\n",
    "Declara tres variables cualitativas: `comida_favorita`, `pais_natal`, y `hobby`. Asigna valores a cada una y luego imprime una frase que las combine."
   ]
  },
  {
   "cell_type": "code",
   "execution_count": 12,
   "id": "04cd0f4b",
   "metadata": {},
   "outputs": [],
   "source": [
    "# Definimos una clase Cliente para representar a cada individuo en la simulación\n",
    "class Alma:\n",
    "    def __init__(self, comida_fav, pais_nat, hobby, ):\n",
    "        self.comida_fav= comida_fav\n",
    "        self.pais_nat=pais_nat\n",
    "        self.hobby=hobby\n",
    "    \n",
    "\n",
    "    def actividad(self):\n",
    "        print(f\"mi comida favorita es {self.comida_fav} ,soy de {self.pais_nat} y me gusta {self.hobby}:)\")"
   ]
  },
  {
   "cell_type": "code",
   "execution_count": 13,
   "id": "d279a5e4",
   "metadata": {},
   "outputs": [
    {
     "name": "stdout",
     "output_type": "stream",
     "text": [
      "mi comida favorita es hamburguesa ,soy de mexico y me gusta dormir:)\n"
     ]
    }
   ],
   "source": [
    "yo=Alma(\"hamburguesa\",\"mexico\",\"dormir\")\n",
    "yo.actividad()"
   ]
  },
  {
   "cell_type": "markdown",
   "id": "17db67c9",
   "metadata": {},
   "source": [
    "## 2. Variables Cuantitativas\n",
    "Las variables cuantitativas representan cantidades y se expresan en números. Pueden ser discretas (valores enteros) o continuas (valores decimales)."
   ]
  },
  {
   "cell_type": "code",
   "execution_count": 14,
   "id": "f52fc357",
   "metadata": {},
   "outputs": [
    {
     "name": "stdout",
     "output_type": "stream",
     "text": [
      "Tengo 20 años\n"
     ]
    }
   ],
   "source": [
    "# Ejemplo\n",
    "edad = 20\n",
    "print(f'Tengo {edad} años')"
   ]
  },
  {
   "cell_type": "code",
   "execution_count": 15,
   "id": "02abdc48",
   "metadata": {},
   "outputs": [
    {
     "name": "stdout",
     "output_type": "stream",
     "text": [
      "Mi altura es: 1.64 metros\n"
     ]
    }
   ],
   "source": [
    "# Ejemplo\n",
    "altura = 1.64\n",
    "print(f'Mi altura es: {altura} metros')"
   ]
  },
  {
   "cell_type": "code",
   "execution_count": 16,
   "id": "ee73bb7a",
   "metadata": {},
   "outputs": [
    {
     "name": "stdout",
     "output_type": "stream",
     "text": [
      "Mi peso es: 80 kilogramos\n"
     ]
    }
   ],
   "source": [
    "# Ejemplo\n",
    "peso = 80\n",
    "print(f'Mi peso es: {peso} kilogramos')"
   ]
  },
  {
   "cell_type": "markdown",
   "id": "0bc043d2",
   "metadata": {},
   "source": [
    "### Actividad: Indice de masa corporal\n",
    "- Declara una clase persona con dos atributos cuantitativos: `peso` y `estatura`. \n",
    "- Dentro de la clase, crea una función `obtener_imc` para calcular el indice de masa corporal de la persona, utiliza `round(numero, ndigits)` para dejarlo con 2 digitos. \n",
    "\n"
   ]
  },
  {
   "cell_type": "code",
   "execution_count": 35,
   "id": "1f7b69a1",
   "metadata": {},
   "outputs": [],
   "source": [
    "class Persona:\n",
    "    def __init__(self, peso, estatura):\n",
    "        self.peso = peso\n",
    "        self.estatura = estatura\n",
    "\n",
    "    def obtener_imc(self):\n",
    "        imc = self.peso / (self.estatura * 2)\n",
    "        return round(imc, 2)"
   ]
  },
  {
   "cell_type": "code",
   "execution_count": 40,
   "id": "f5f2bc2d",
   "metadata": {},
   "outputs": [
    {
     "name": "stdout",
     "output_type": "stream",
     "text": [
      "El IMC de la persona es: 24.39\n"
     ]
    }
   ],
   "source": [
    "# para que resuelva\n",
    "persona_ejemplo = Persona(80, 1.64)\n",
    "print(f\"El IMC de la persona es: {persona_ejemplo.obtener_imc()}\")"
   ]
  },
  {
   "cell_type": "markdown",
   "id": "19540268",
   "metadata": {},
   "source": [
    "- Ahora crea 3 instancias de la clase Persona y define su peso y altura. \n",
    "- Despues usa el método `obtener_imc` e imprime su indice de masa corporal."
   ]
  },
  {
   "cell_type": "code",
   "execution_count": 45,
   "id": "20dc870d",
   "metadata": {},
   "outputs": [
    {
     "name": "stdout",
     "output_type": "stream",
     "text": [
      "El IMC de persona1 es: 20.0\n",
      "El IMC de persona2 es: 23.53\n",
      "El IMC de persona3 es: 16.67\n"
     ]
    }
   ],
   "source": [
    "P1 = Persona(60, 1.50)\n",
    "P2 = Persona(88, 1.87)\n",
    "P3 = Persona(55, 1.65)\n",
    "\n",
    "# Imprimir el IMC de cada persona\n",
    "print(f\"El IMC de persona1 es: {P1.obtener_imc()}\")\n",
    "print(f\"El IMC de persona2 es: {P2.obtener_imc()}\")\n",
    "print(f\"El IMC de persona3 es: {P3.obtener_imc()}\")"
   ]
  },
  {
   "cell_type": "markdown",
   "id": "8a08a5ae",
   "metadata": {},
   "source": [
    "# Operadores Aritméticos\n",
    "Los operadores aritméticos se utilizan para realizar operaciones matemáticas básicas como suma, resta, multiplicación y división.\n",
    "\n",
    "### Operadores comunes:\n",
    "- `+` Suma\n",
    "- `-` Resta\n",
    "- `*` Multiplicación\n",
    "- `/` División\n",
    "- `%` Módulo\n",
    "- `**` Exponenciación\n",
    "- `//` División entera"
   ]
  },
  {
   "cell_type": "code",
   "execution_count": null,
   "id": "4c9e338e",
   "metadata": {},
   "outputs": [
    {
     "name": "stdout",
     "output_type": "stream",
     "text": [
      "Suma: 30 + 3 =  33\n",
      "Resta: 30 - 3 = 27\n",
      "Multiplicación: 30 * 3 = 90\n",
      "División: 30 / 3 = 10.0\n",
      "Exponenciación: 30 a la 3 = 27000\n"
     ]
    }
   ],
   "source": [
    "# Ejemplo: Operadores aritméticos\n",
    "a = 30\n",
    "b = 3\n",
    "print(f'Suma: {a} + {b} =  {a + b}')\n",
    "print(f'Resta: {a} - {b} = {a - b}')\n",
    "print(f'Multiplicación: {a} * {b} = {a * b}')\n",
    "print(f'División: {a} / {b} = {a / b}')\n",
    "print(f'Exponenciación: {a} a la {b} = {a ** b}')"
   ]
  },
  {
   "cell_type": "markdown",
   "id": "621f23ed",
   "metadata": {},
   "source": [
    "### División entera en Python\n",
    "\n",
    "En Python, la **división entera** se realiza con el operador `//`.\n",
    "\n",
    "Este operador devuelve el **cociente entero** de la división, **descartando los decimales**.\n",
    "\n",
    "```python\n",
    "resultado = dividendo // divisor\n",
    "\n"
   ]
  },
  {
   "cell_type": "markdown",
   "id": "f0445d69",
   "metadata": {},
   "source": [
    "### Live code example.\n",
    "- Obtener división entera entre un numero a y un numero b"
   ]
  },
  {
   "cell_type": "code",
   "execution_count": 34,
   "id": "fb16ea21",
   "metadata": {},
   "outputs": [
    {
     "name": "stdout",
     "output_type": "stream",
     "text": [
      "Division entera: 20 // 3= (6)\n"
     ]
    }
   ],
   "source": [
    "a=20\n",
    "b=3\n",
    "print(f'Division entera: {a} // {b}= ({a // b})')"
   ]
  },
  {
   "cell_type": "markdown",
   "id": "16c3462f",
   "metadata": {},
   "source": [
    "### ¿Qué es el residuo o módulo?\n",
    "\n",
    "El **residuo** es el valor restante después de dividir un número entre otro.  \n",
    "Se representa con el operador `%` en muchos lenguajes de programación.\n",
    "\n",
    "### Live code example.\n",
    "- Obtener residuo entre 16 y 3.\n"
   ]
  },
  {
   "cell_type": "code",
   "execution_count": null,
   "id": "882c8583",
   "metadata": {},
   "outputs": [
    {
     "name": "stdout",
     "output_type": "stream",
     "text": [
      "Modulo de Division entera: 16 modulo 3= (1)\n"
     ]
    }
   ],
   "source": [
    "a=16\n",
    "b=3\n",
    "print(f'Modulo de Division entera: {a} modulo {b}= ({a % b})')"
   ]
  },
  {
   "cell_type": "code",
   "execution_count": null,
   "id": "83bb657f",
   "metadata": {},
   "outputs": [
    {
     "name": "stdout",
     "output_type": "stream",
     "text": [
      "El número 16 es par.\n"
     ]
    }
   ],
   "source": [
    "def verificar_par_impar(numero):\n",
    "    if numero % 2 == 0:\n",
    "        return f'El número {numero} es par.'\n",
    "    else:\n",
    "        return f'El número {numero} es impar.'\n",
    "\n",
    "#prueba de algoritmo\n",
    "numero=16\n",
    "resultado= verificar_par_impar(numero)\n",
    "print(resultado)    "
   ]
  },
  {
   "cell_type": "markdown",
   "id": "83398c9f",
   "metadata": {},
   "source": [
    "### Actividad: Operadores Aritméticos\n",
    "Dado `x = 15` y `y = 4`, realiza las siguientes operaciones:\n",
    "1. Calcula el residuo de `x` dividido entre `y`. Guarda el resultado en una variable llamada `residuo` e imprime."
   ]
  },
  {
   "cell_type": "code",
   "execution_count": 53,
   "id": "6d171e17",
   "metadata": {},
   "outputs": [
    {
     "name": "stdout",
     "output_type": "stream",
     "text": [
      "El residuo de 38 dividido entre 6 es: 2\n"
     ]
    }
   ],
   "source": [
    "x=38\n",
    "y=6\n",
    "residuo=x%y\n",
    "print(f'El residuo de {x} dividido entre {y} es: {residuo}')\n",
    "# Ejemplo: Operadores de comparación    \n",
    "a = 10\n",
    "b = 5   "
   ]
  },
  {
   "cell_type": "markdown",
   "id": "ba5f131f",
   "metadata": {},
   "source": [
    "2. Calcula `x` elevado a la potencia de `y`. Guarda el resultado en una variable llamada `potencia` e imprime.\n"
   ]
  },
  {
   "cell_type": "code",
   "execution_count": 54,
   "id": "d640d8a9",
   "metadata": {},
   "outputs": [
    {
     "name": "stdout",
     "output_type": "stream",
     "text": [
      "38 elevado a la potencia de 6 es: 3010936384\n"
     ]
    }
   ],
   "source": [
    "potencia = x ** y\n",
    "print(f'{x} elevado a la potencia de {y} es: {potencia}')"
   ]
  },
  {
   "cell_type": "markdown",
   "id": "fa6a51d3",
   "metadata": {},
   "source": [
    "3. Calcula la división entera de `x` entre `y`. Guarda el resultado en una variable llamada `division_entera` e imprime."
   ]
  },
  {
   "cell_type": "code",
   "execution_count": 55,
   "id": "bc85ee17",
   "metadata": {},
   "outputs": [
    {
     "name": "stdout",
     "output_type": "stream",
     "text": [
      "La división entera de 38 entre 6 es: 6\n"
     ]
    }
   ],
   "source": [
    "division_entera = x // y\n",
    "print(f'La división entera de {x} entre {y} es: {division_entera}')"
   ]
  },
  {
   "cell_type": "markdown",
   "id": "512f5c32",
   "metadata": {},
   "source": [
    "## 2. Operadores de Comparación\n",
    "Los operadores de comparación se utilizan para comparar valores y devuelven un valor booleano (`True` o `False`).\n",
    "\n",
    "### Operadores comunes:\n",
    "- `==` Igual a\n",
    "- `!=` Diferente de\n",
    "- `>` Mayor que\n",
    "- `<` Menor que\n",
    "- `>=` Mayor o igual que\n",
    "- `<=` Menor o igual que"
   ]
  },
  {
   "cell_type": "code",
   "execution_count": 56,
   "id": "ad2807a8",
   "metadata": {},
   "outputs": [
    {
     "name": "stdout",
     "output_type": "stream",
     "text": [
      "¿a es igual a b? False\n",
      "¿a es diferente de b? True\n",
      "¿a es mayor que b? False\n",
      "¿a es menor o igual que b? True\n"
     ]
    }
   ],
   "source": [
    "# Ejemplo: Operadores de comparación\n",
    "a = 5\n",
    "b = 15\n",
    "print(f'¿a es igual a b? {a == b}')\n",
    "print(f'¿a es diferente de b? {a != b}')\n",
    "print(f'¿a es mayor que b? {a > b}')\n",
    "print(f'¿a es menor o igual que b? {a <= b}')"
   ]
  },
  {
   "cell_type": "code",
   "execution_count": 57,
   "id": "df5b23c3",
   "metadata": {},
   "outputs": [
    {
     "name": "stdout",
     "output_type": "stream",
     "text": [
      "a es diferente de b\n"
     ]
    }
   ],
   "source": [
    "a=10\n",
    "b=20\n",
    "if a== b:\n",
    "    print(\"a es igual a b\")\n",
    "else:\n",
    "    print(\"a es diferente de b\")"
   ]
  },
  {
   "cell_type": "markdown",
   "id": "c55cb6a7",
   "metadata": {},
   "source": [
    "### Live code example\n",
    "- Ejemplificar algunos operadores con if else\n"
   ]
  },
  {
   "cell_type": "markdown",
   "id": "b38cf791",
   "metadata": {},
   "source": []
  },
  {
   "cell_type": "markdown",
   "id": "9f7de74c",
   "metadata": {},
   "source": [
    "### Actividad: Operadores de Comparación\n",
    "Dado `a = 50` y `b = 25`, responde con código e imprime la respuesta:\n",
    "1. ¿`a` es mayor que `b`?\n"
   ]
  },
  {
   "cell_type": "code",
   "execution_count": 58,
   "id": "f09b4753",
   "metadata": {},
   "outputs": [
    {
     "name": "stdout",
     "output_type": "stream",
     "text": [
      "¿a es mayor que b? True\n"
     ]
    }
   ],
   "source": [
    "a = 145\n",
    "b = 144\n",
    "print(f'¿a es mayor que b? {a > b}')"
   ]
  },
  {
   "cell_type": "markdown",
   "id": "7440990e",
   "metadata": {},
   "source": [
    "Dado `a = 50` y `b = 75`, responde con código e imprime la respuesta:\n",
    "\n",
    "2. ¿`a` es igual a `b`?\n",
    "\n"
   ]
  },
  {
   "cell_type": "code",
   "execution_count": 59,
   "id": "ab5ef5fd",
   "metadata": {},
   "outputs": [
    {
     "name": "stdout",
     "output_type": "stream",
     "text": [
      "¿a es mayor que b? False\n"
     ]
    }
   ],
   "source": [
    "a = 50\n",
    "b = 75\n",
    "print(f'¿a es mayor que b? {a == b}')"
   ]
  },
  {
   "cell_type": "markdown",
   "id": "a6fabb2a",
   "metadata": {},
   "source": [
    "Dado `a = -300` y `b = 25`, responde con código e imprime la respuesta:\n",
    "\n",
    "3. ¿`b` es menor o igual que `a`?"
   ]
  },
  {
   "cell_type": "code",
   "execution_count": 60,
   "id": "4f6a914e",
   "metadata": {},
   "outputs": [
    {
     "name": "stdout",
     "output_type": "stream",
     "text": [
      "¿a es mayor que b? False\n"
     ]
    }
   ],
   "source": [
    "a = -300\n",
    "b = 25\n",
    "print(f'¿a es mayor que b? {b <= a }')"
   ]
  }
 ],
 "metadata": {
  "kernelspec": {
   "display_name": ".venv",
   "language": "python",
   "name": "python3"
  },
  "language_info": {
   "codemirror_mode": {
    "name": "ipython",
    "version": 3
   },
   "file_extension": ".py",
   "mimetype": "text/x-python",
   "name": "python",
   "nbconvert_exporter": "python",
   "pygments_lexer": "ipython3",
   "version": "3.13.3"
  }
 },
 "nbformat": 4,
 "nbformat_minor": 5
}
